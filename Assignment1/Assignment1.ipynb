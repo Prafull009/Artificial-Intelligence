{
  "nbformat": 4,
  "nbformat_minor": 0,
  "metadata": {
    "colab": {
      "provenance": []
    },
    "kernelspec": {
      "name": "python3",
      "display_name": "Python 3"
    },
    "language_info": {
      "name": "python"
    }
  },
  "cells": [
    {
      "cell_type": "code",
      "execution_count": null,
      "metadata": {
        "id": "73nW_ypW044V"
      },
      "outputs": [],
      "source": [
        "import numpy as np"
      ]
    },
    {
      "cell_type": "markdown",
      "source": [
        "BFS"
      ],
      "metadata": {
        "id": "G-grhAARyEdk"
      }
    },
    {
      "cell_type": "code",
      "source": [
        "def isSolvable(state: list[int])-> bool:\n",
        "  inversion: int = 0\n",
        "  for i in range(len(state)):\n",
        "    for j in range(i + 1, len(state)):\n",
        "      if state[i] > state[j] and state[j] != 0:\n",
        "        inversion += 1\n",
        "  return inversion % 2 == 0"
      ],
      "metadata": {
        "id": "IJZdqB_E1BP2"
      },
      "execution_count": null,
      "outputs": []
    },
    {
      "cell_type": "code",
      "source": [
        "def getMoves(state: list[int], visitedStates: list[int])-> list[list[int]]:\n",
        "  emptyTileIndex = state.index(0)\n",
        "  moves = []\n",
        "\n",
        "  if emptyTileIndex not in [0, 1, 2]:\n",
        "    moves.append('UP')\n",
        "  if emptyTileIndex not in [6, 7, 8]:\n",
        "    moves.append('DOWN')\n",
        "  if emptyTileIndex not in [0, 3, 6]:\n",
        "    moves.append('LEFT')\n",
        "  if emptyTileIndex not in [2, 5, 8]:\n",
        "    moves.append('RIGHT')\n",
        "\n",
        "  possibleStates = []\n",
        "  for move in moves:\n",
        "    newState = state.copy()\n",
        "    if move == 'UP':\n",
        "      newState[emptyTileIndex], newState[emptyTileIndex - 3] = newState[emptyTileIndex - 3], newState[emptyTileIndex]\n",
        "\n",
        "    if move == 'DOWN':\n",
        "      newState[emptyTileIndex], newState[emptyTileIndex + 3] = newState[emptyTileIndex + 3], newState[emptyTileIndex]\n",
        "\n",
        "    if move == 'LEFT':\n",
        "      newState[emptyTileIndex], newState[emptyTileIndex - 1] = newState[emptyTileIndex - 1], newState[emptyTileIndex]\n",
        "\n",
        "    if move == 'RIGHT':\n",
        "      newState[emptyTileIndex], newState[emptyTileIndex + 1] = newState[emptyTileIndex + 1], newState[emptyTileIndex]\n",
        "\n",
        "    possibleStates.append(newState)\n",
        "  # return possibleStates\n",
        "  States = []\n",
        "  for State in possibleStates:\n",
        "    if State not in visitedStates:\n",
        "      States.append(State)\n",
        "  return States"
      ],
      "metadata": {
        "id": "RNQmCHwv3x_z"
      },
      "execution_count": null,
      "outputs": []
    },
    {
      "cell_type": "code",
      "source": [
        "def solveByBFS(state: list[int]):\n",
        "  target = [1,2,3,4,5,6,7,8,0]\n",
        "  queue = []\n",
        "  queue.append(state)\n",
        "  visitedStates = []\n",
        "\n",
        "  while len(queue) > 0:\n",
        "    state = queue.pop(0)\n",
        "    visitedStates.append(state)\n",
        "    if state == target:\n",
        "      return visitedStates\n",
        "\n",
        "    moves = getMoves(state, visitedStates)\n",
        "    for move in moves:\n",
        "      if move not in visitedStates and move not in queue:\n",
        "        queue.append(move)\n",
        "  return None"
      ],
      "metadata": {
        "id": "Lf4GUpTa2QIV"
      },
      "execution_count": null,
      "outputs": []
    },
    {
      "cell_type": "code",
      "source": [
        "state1 = [8,1,2,0,4,3,7,6,5]\n",
        "state2 = [1,8,2,0,4,3,7,6,5]\n",
        "\n",
        "if isSolvable(state1):\n",
        "  print('Solvable')\n",
        "  print(state1)\n",
        "  print('Solution:')\n",
        "  possibleStates = solveByBFS(state1)\n",
        "  print(len(possibleStates))\n",
        "  print(possibleStates[-1])\n",
        "else:\n",
        "  print('No solution')\n",
        "\n",
        "if isSolvable(state2):\n",
        "  print('Solvable')\n",
        "  print(state2)\n",
        "  print('Solution:')\n",
        "  possibleStates = solveByBFS(state2)\n",
        "  print(len(possibleStates))\n",
        "  print(possibleStates[-1])\n",
        "else:\n",
        "  print('No solution')"
      ],
      "metadata": {
        "colab": {
          "base_uri": "https://localhost:8080/"
        },
        "id": "5UVqf73K1mm-",
        "outputId": "786b40d1-9977-4ba8-df7a-78f3fecd44b8"
      },
      "execution_count": null,
      "outputs": [
        {
          "output_type": "stream",
          "name": "stdout",
          "text": [
            "No solution\n",
            "Solvable\n",
            "[1, 8, 2, 0, 4, 3, 7, 6, 5]\n",
            "Solution:\n",
            "423\n",
            "[1, 2, 3, 4, 5, 6, 7, 8, 0]\n"
          ]
        }
      ]
    },
    {
      "cell_type": "markdown",
      "source": [
        "DFS"
      ],
      "metadata": {
        "id": "6OCVu6YNyHPp"
      }
    },
    {
      "cell_type": "code",
      "source": [
        "def getMovesforDFS(state: list[int])-> list[list[int]]:\n",
        "  emptyTileIndex = state.index(0)\n",
        "  moves = []\n",
        "\n",
        "  if emptyTileIndex not in [0, 1, 2]:\n",
        "    newState = state.copy()\n",
        "    newState[emptyTileIndex], newState[emptyTileIndex - 3] = newState[emptyTileIndex - 3], newState[emptyTileIndex]\n",
        "    moves.append(newState)\n",
        "  if emptyTileIndex not in [6, 7, 8]:\n",
        "    newState = state.copy()\n",
        "    newState[emptyTileIndex], newState[emptyTileIndex + 3] = newState[emptyTileIndex + 3], newState[emptyTileIndex]\n",
        "    moves.append(newState)\n",
        "  if emptyTileIndex not in [0, 3, 6]:\n",
        "    newState = state.copy()\n",
        "    newState[emptyTileIndex], newState[emptyTileIndex - 1] = newState[emptyTileIndex - 1], newState[emptyTileIndex]\n",
        "    moves.append(newState)\n",
        "  if emptyTileIndex not in [2, 5, 8]:\n",
        "    newState = state.copy()\n",
        "    newState[emptyTileIndex], newState[emptyTileIndex + 1] = newState[emptyTileIndex + 1], newState[emptyTileIndex]\n",
        "    moves.append(newState)\n",
        "  return moves"
      ],
      "metadata": {
        "id": "yQs_hMRj9puG"
      },
      "execution_count": null,
      "outputs": []
    },
    {
      "cell_type": "code",
      "source": [
        "def solveByDFS(state: list[int]):\n",
        "  target = [1,2,3,4,5,6,7,8,0]\n",
        "  stack = [state]\n",
        "  visitedStates = set()\n",
        "  visited: int = 0\n",
        "\n",
        "  while stack:\n",
        "    state = stack.pop()\n",
        "    visitedStates.add(tuple(state))\n",
        "    visited += 1\n",
        "    if state == target:\n",
        "      print(visited)\n",
        "      return state\n",
        "    for move in getMovesforDFS(state):\n",
        "      if tuple(move) not in visitedStates:\n",
        "        stack.append(move)\n",
        "  return None"
      ],
      "metadata": {
        "id": "WUkirNLiyPkm"
      },
      "execution_count": null,
      "outputs": []
    },
    {
      "cell_type": "code",
      "source": [
        "state1 = [8,1,2,0,4,3,7,6,5]\n",
        "state2 = [1,8,2,0,4,3,7,6,5]\n",
        "\n",
        "if isSolvable(state1):\n",
        "  print('Solvable')\n",
        "  answer = solveByDFS(state1)\n",
        "  if answer:\n",
        "    print(state1)\n",
        "    print('Solution:')\n",
        "    print(answer)\n",
        "  else:\n",
        "    print('No solution found')\n",
        "else:\n",
        "  print('No solution')\n",
        "\n",
        "if isSolvable(state2):\n",
        "  print('Solvable')\n",
        "  answer = solveByDFS(state2)\n",
        "  if answer:\n",
        "    print(state2)\n",
        "    print('Solution:')\n",
        "    print(answer)\n",
        "  else:\n",
        "    print('No solution found')\n",
        "else:\n",
        "  print('No solution')"
      ],
      "metadata": {
        "colab": {
          "base_uri": "https://localhost:8080/"
        },
        "id": "dF0uwtH502jI",
        "outputId": "5166c680-bc50-4f41-c2df-21312328517a"
      },
      "execution_count": null,
      "outputs": [
        {
          "output_type": "stream",
          "name": "stdout",
          "text": [
            "No solution\n",
            "Solvable\n",
            "106031\n",
            "[1, 8, 2, 0, 4, 3, 7, 6, 5]\n",
            "Solution:\n",
            "[1, 2, 3, 4, 5, 6, 7, 8, 0]\n"
          ]
        }
      ]
    }
  ]
}