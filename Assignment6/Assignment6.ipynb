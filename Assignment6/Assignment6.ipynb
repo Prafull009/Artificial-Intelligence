{
  "nbformat": 4,
  "nbformat_minor": 0,
  "metadata": {
    "colab": {
      "provenance": []
    },
    "kernelspec": {
      "name": "python3",
      "display_name": "Python 3"
    },
    "language_info": {
      "name": "python"
    }
  },
  "cells": [
    {
      "cell_type": "code",
      "execution_count": null,
      "metadata": {
        "id": "wn23qIaoMtGY"
      },
      "outputs": [],
      "source": [
        "def solve_n_queens(board: list[list[int]], col: int) -> bool:\n",
        "  \"\"\"\n",
        "  Driver Function of Program\n",
        "  \"\"\"\n",
        "  if col == 8:\n",
        "    \"\"\"\n",
        "    If all queens are placed, print the solution\n",
        "    \"\"\"\n",
        "    print_board(board)\n",
        "    return True\n",
        "\n",
        "  for i in range(8):\n",
        "    if is_safe(board, i, col):\n",
        "      \"\"\"\n",
        "      If the queen can be placed on board[i][col], then place it\n",
        "      \"\"\"\n",
        "      board[i][col] = 1\n",
        "      if solve_n_queens(board, col + 1):\n",
        "        \"\"\"\n",
        "        Recursively check if other queens can be placed in the rest of the board\n",
        "        \"\"\"\n",
        "        return True\n",
        "      board[i][col] = 0\n",
        "      \"\"\"\n",
        "      If the queen cannot be placed on board[i][col], then backtrack\n",
        "      \"\"\"\n",
        "  return False"
      ]
    },
    {
      "cell_type": "code",
      "source": [
        "def is_safe(board, row, col) -> bool:\n",
        "  \"\"\"\n",
        "  Check if a queen can be placed on board[row][col]\n",
        "  \"\"\"\n",
        "  for x in range(col):\n",
        "    \"\"\"\n",
        "    Check if there is a queen in the same column\n",
        "    \"\"\"\n",
        "    if board[row][x] == 1:\n",
        "      return False\n",
        "  for x, y in zip(range(row, -1, -1), range(col, -1, -1)):\n",
        "    \"\"\"\n",
        "    Check if there is a queen in the upper diagonal\n",
        "    \"\"\"\n",
        "    if board[x][y] == 1:\n",
        "      return False\n",
        "  for x, y in zip(range(row, 8, 1), range(col, -1, -1)):\n",
        "    \"\"\"\n",
        "    Check if there is a queen in the lower diagonal\n",
        "    \"\"\"\n",
        "    if board[x][y] == 1:\n",
        "      return False\n",
        "  return True"
      ],
      "metadata": {
        "id": "QYd5dOXtRTme"
      },
      "execution_count": null,
      "outputs": []
    },
    {
      "cell_type": "code",
      "source": [
        "def print_board(board) -> None:\n",
        "  \"\"\"\n",
        "  Print Board in a readable format\n",
        "  \"\"\"\n",
        "  for i in range(8):\n",
        "    for j in range(8):\n",
        "      print(board[i][j], end=\" \")\n",
        "    print()"
      ],
      "metadata": {
        "id": "fFDpk8eTTC68"
      },
      "execution_count": null,
      "outputs": []
    },
    {
      "cell_type": "code",
      "source": [
        "board: list[list[int]] = [[0 for x in range(8)] for y in range(8)]\n",
        "if not solve_n_queens(board, 0):\n",
        "  print(\"Solution not found!\")"
      ],
      "metadata": {
        "colab": {
          "base_uri": "https://localhost:8080/"
        },
        "id": "IZI9dguWSdUU",
        "outputId": "eda7696e-349d-418a-b061-aca4b8894896"
      },
      "execution_count": null,
      "outputs": [
        {
          "output_type": "stream",
          "name": "stdout",
          "text": [
            "1 0 0 0 0 0 0 0 \n",
            "0 0 0 0 0 0 1 0 \n",
            "0 0 0 0 1 0 0 0 \n",
            "0 0 0 0 0 0 0 1 \n",
            "0 1 0 0 0 0 0 0 \n",
            "0 0 0 1 0 0 0 0 \n",
            "0 0 0 0 0 1 0 0 \n",
            "0 0 1 0 0 0 0 0 \n"
          ]
        }
      ]
    }
  ]
}