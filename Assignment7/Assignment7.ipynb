{
  "nbformat": 4,
  "nbformat_minor": 0,
  "metadata": {
    "colab": {
      "provenance": []
    },
    "kernelspec": {
      "name": "python3",
      "display_name": "Python 3"
    },
    "language_info": {
      "name": "python"
    }
  },
  "cells": [
    {
      "cell_type": "code",
      "execution_count": null,
      "metadata": {
        "id": "8YtGXPWMWcak"
      },
      "outputs": [],
      "source": [
        "class ForwardChaining:\n",
        "  def __init__(self):\n",
        "    self.facts = set()\n",
        "    self.rules = []\n",
        "    self.inferred = set()\n",
        "\n",
        "  def add_fact(self, fact) -> None:\n",
        "    self.facts.add(fact)\n",
        "\n",
        "  def add_rule(self, condition, result) -> None:\n",
        "    self.rules.append((condition, result))\n",
        "\n",
        "  def apply_rules(self) -> None:\n",
        "    new_facts = True\n",
        "    while new_facts:\n",
        "      new_facts = False\n",
        "      for condition, result in self.rules:\n",
        "        if condition.issubset(self.facts) and result not in self.facts:\n",
        "          self.facts.add(result)\n",
        "          self.inferred.add(result)\n",
        "          print(f\"Inferred: {result}\")\n",
        "          new_facts = True\n",
        "\n",
        "  def forward_chain(self) -> set():\n",
        "    print(f\"Initial symptoms: {self.facts}\")\n",
        "    self.apply_rules()\n",
        "    return self.facts"
      ]
    },
    {
      "cell_type": "code",
      "source": [
        "fc = ForwardChaining()\n",
        "\n",
        "fc.add_fact(\"Battery is good\")\n",
        "fc.add_fact(\"Starter motor works\")\n",
        "fc.add_fact(\"Fuel level is low\")\n",
        "\n",
        "fc.add_rule({\"Battery is good\", \"Starter motor works\", \"Fuel level is low\"}, \"Car is not starting due to lack of fuel\")\n",
        "fc.add_rule({\"Fuel level is low\"}, \"Refill fuel\")\n",
        "fc.add_rule({\"Battery is dead\"}, \"Check alternator\")\n",
        "\n",
        "fc.add_rule({\"Starter motor not working\"}, \"Check ignition system\")\n",
        "fc.forward_chain()"
      ],
      "metadata": {
        "colab": {
          "base_uri": "https://localhost:8080/"
        },
        "id": "UPhXIefJYNQF",
        "outputId": "7e7a64e6-1ba7-4898-e129-2652c4a5e4cf"
      },
      "execution_count": null,
      "outputs": [
        {
          "output_type": "stream",
          "name": "stdout",
          "text": [
            "Initial symptoms: {'Battery is good', 'Starter motor works', 'Fuel level is low'}\n",
            "Inferred: Car is not starting due to lack of fuel\n",
            "Inferred: Refill fuel\n"
          ]
        },
        {
          "output_type": "execute_result",
          "data": {
            "text/plain": [
              "{'Battery is good',\n",
              " 'Car is not starting due to lack of fuel',\n",
              " 'Fuel level is low',\n",
              " 'Refill fuel',\n",
              " 'Starter motor works'}"
            ]
          },
          "metadata": {},
          "execution_count": 7
        }
      ]
    }
  ]
}