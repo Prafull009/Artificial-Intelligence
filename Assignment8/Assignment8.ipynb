{
  "nbformat": 4,
  "nbformat_minor": 0,
  "metadata": {
    "colab": {
      "provenance": []
    },
    "kernelspec": {
      "name": "python3",
      "display_name": "Python 3"
    },
    "language_info": {
      "name": "python"
    }
  },
  "cells": [
    {
      "cell_type": "code",
      "execution_count": null,
      "metadata": {
        "colab": {
          "base_uri": "https://localhost:8080/"
        },
        "id": "e_2JoJ2dwzkZ",
        "outputId": "f34bdf98-d9ff-40ca-874e-9533dac3b101"
      },
      "outputs": [
        {
          "output_type": "stream",
          "name": "stdout",
          "text": [
            "Trying to prove goal: E\n",
            "Trying to infer E using the rule: ['D'] -> E\n",
            "Trying to infer D using the rule: ['C'] -> D\n",
            "Trying to infer C using the rule: ['A', 'B'] -> C\n",
            "Goal A is already a fact.\n",
            "Goal B is already a fact.\n",
            "Goal C inferred successfully!\n",
            "Goal D inferred successfully!\n",
            "Goal E inferred successfully!\n",
            "Goal E has been proven.\n"
          ]
        }
      ],
      "source": [
        "# Facts in the system\n",
        "facts = [\"A\", \"B\"]\n",
        "\n",
        "# Rules as tuples (conditions -> conclusion)\n",
        "rules = [\n",
        "    ([\"A\", \"B\"], \"C\"),  # If A and B are true, then infer C\n",
        "    ([\"C\"], \"D\"),       # If C is true, then infer D\n",
        "    ([\"D\"], \"E\")        # If D is true, then infer E\n",
        "]\n",
        "\n",
        "# Backward Chaining function\n",
        "def backward_chaining(goal, facts, rules):\n",
        "    # If the goal is already in the facts, return True\n",
        "    if goal in facts:\n",
        "        print(f\"Goal {goal} is already a fact.\")\n",
        "        return True\n",
        "\n",
        "    # Look for rules that can conclude the goal\n",
        "    for condition, conclusion in rules:\n",
        "        if conclusion == goal:\n",
        "            print(f\"Trying to infer {goal} using the rule: {condition} -> {goal}\")\n",
        "\n",
        "            # Recursively check if all conditions for the rule are met\n",
        "            all_conditions_met = True\n",
        "            for cond in condition:\n",
        "                if not backward_chaining(cond, facts, rules):\n",
        "                    all_conditions_met = False\n",
        "                    break\n",
        "\n",
        "            if all_conditions_met:\n",
        "                print(f\"Goal {goal} inferred successfully!\")\n",
        "                return True\n",
        "\n",
        "    # If no rule can infer the goal, return False\n",
        "    print(f\"Goal {goal} cannot be inferred.\")\n",
        "    return False\n",
        "\n",
        "# Example: Try to infer \"E\"\n",
        "goal = \"E\"\n",
        "print(f\"Trying to prove goal: {goal}\")\n",
        "if backward_chaining(goal, facts, rules):\n",
        "    print(f\"Goal {goal} has been proven.\")\n",
        "else:\n",
        "    print(f\"Goal {goal} cannot be proven.\")"
      ]
    }
  ]
}